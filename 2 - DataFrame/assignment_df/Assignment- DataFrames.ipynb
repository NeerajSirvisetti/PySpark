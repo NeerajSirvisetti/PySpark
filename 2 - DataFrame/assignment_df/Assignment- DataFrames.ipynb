{
 "cells": [
  {
   "cell_type": "markdown",
   "metadata": {},
   "source": [
    "---\n",
    "---\n",
    "\n",
    "<center><h1>Assignment: DataFrames</h1></center>\n",
    "\n",
    "---\n",
    "\n",
    "In the notebook, we will work with a cricket commentary data.\n",
    "\n",
    "\n",
    "---\n",
    "\n",
    "#### `Importing the required libraries`\n",
    "\n",
    "---"
   ]
  },
  {
   "cell_type": "code",
   "execution_count": 4,
   "metadata": {},
   "outputs": [],
   "source": [
    "from pyspark.context import SparkContext\n",
    "from pyspark.sql import SparkSession\n",
    "import pyspark.sql.types as tp\n",
    "from pyspark.sql import functions as F"
   ]
  },
  {
   "cell_type": "code",
   "execution_count": 5,
   "metadata": {},
   "outputs": [
    {
     "name": "stdout",
     "output_type": "stream",
     "text": [
      "22/07/02 08:12:34 WARN Utils: Your hostname, codespaces-1d4809 resolves to a loopback address: 127.0.0.1; using 172.16.5.4 instead (on interface eth0)\n",
      "22/07/02 08:12:34 WARN Utils: Set SPARK_LOCAL_IP if you need to bind to another address\n"
     ]
    },
    {
     "name": "stderr",
     "output_type": "stream",
     "text": [
      "Setting default log level to \"WARN\".\n",
      "To adjust logging level use sc.setLogLevel(newLevel). For SparkR, use setLogLevel(newLevel).\n"
     ]
    },
    {
     "name": "stdout",
     "output_type": "stream",
     "text": [
      "22/07/02 08:12:34 WARN NativeCodeLoader: Unable to load native-hadoop library for your platform... using builtin-java classes where applicable\n"
     ]
    },
    {
     "data": {
      "text/html": [
       "\n",
       "            <div>\n",
       "                <p><b>SparkSession - in-memory</b></p>\n",
       "                \n",
       "        <div>\n",
       "            <p><b>SparkContext</b></p>\n",
       "\n",
       "            <p><a href=\"http://ccc8c059-204b-4c34-b61c-969b7a353399.internal.cloudapp.net:4040\">Spark UI</a></p>\n",
       "\n",
       "            <dl>\n",
       "              <dt>Version</dt>\n",
       "                <dd><code>v3.3.0</code></dd>\n",
       "              <dt>Master</dt>\n",
       "                <dd><code>local[*]</code></dd>\n",
       "              <dt>AppName</dt>\n",
       "                <dd><code>pyspark-shell</code></dd>\n",
       "            </dl>\n",
       "        </div>\n",
       "        \n",
       "            </div>\n",
       "        "
      ],
      "text/plain": [
       "<pyspark.sql.session.SparkSession at 0x7fe2003d8d00>"
      ]
     },
     "execution_count": 5,
     "metadata": {},
     "output_type": "execute_result"
    }
   ],
   "source": [
    "spark = SparkSession.builder.getOrCreate()\n",
    "spark"
   ]
  },
  {
   "cell_type": "code",
   "execution_count": 7,
   "metadata": {},
   "outputs": [],
   "source": [
    "sc = spark.sparkContext"
   ]
  },
  {
   "cell_type": "markdown",
   "metadata": {},
   "source": [
    "---\n",
    "\n",
    "#### `Read the CSV File`\n",
    "\n",
    "---"
   ]
  },
  {
   "cell_type": "code",
   "execution_count": 8,
   "metadata": {},
   "outputs": [],
   "source": [
    "data = spark.read.csv(\"dataset/ind-ban-comment.csv\",inferSchema=True, header=True)"
   ]
  },
  {
   "cell_type": "code",
   "execution_count": 9,
   "metadata": {},
   "outputs": [
    {
     "name": "stdout",
     "output_type": "stream",
     "text": [
      "root\n",
      " |-- _c0: integer (nullable = true)\n",
      " |-- Batsman: integer (nullable = true)\n",
      " |-- Batsman_Name: string (nullable = true)\n",
      " |-- Bowler: integer (nullable = true)\n",
      " |-- Bowler_Name: string (nullable = true)\n",
      " |-- Commentary: string (nullable = true)\n",
      " |-- Detail: string (nullable = true)\n",
      " |-- Dismissed: double (nullable = true)\n",
      " |-- Id: integer (nullable = true)\n",
      " |-- Isball: boolean (nullable = true)\n",
      " |-- Isboundary: double (nullable = true)\n",
      " |-- Iswicket: double (nullable = true)\n",
      " |-- Over: double (nullable = true)\n",
      " |-- Runs: integer (nullable = true)\n",
      " |-- Summary: string (nullable = true)\n",
      " |-- Timestamp: timestamp (nullable = true)\n",
      " |-- ZAD: string (nullable = true)\n",
      "\n"
     ]
    }
   ],
   "source": [
    "## check the schema of the dataframe\n",
    "\n",
    "### WRITE YOUR CODE HERE\n",
    "data.printSchema()"
   ]
  },
  {
   "cell_type": "code",
   "execution_count": 10,
   "metadata": {
    "scrolled": true
   },
   "outputs": [
    {
     "name": "stdout",
     "output_type": "stream",
     "text": [
      "22/07/02 08:14:30 WARN CSVHeaderChecker: CSV header does not conform to the schema.\n",
      " Header: , Batsman, Batsman_Name, Bowler, Bowler_Name, Commentary, Detail, Dismissed, Id, Isball, Isboundary, Iswicket, Over, Runs, Summary, Timestamp, ZAD\n",
      " Schema: _c0, Batsman, Batsman_Name, Bowler, Bowler_Name, Commentary, Detail, Dismissed, Id, Isball, Isboundary, Iswicket, Over, Runs, Summary, Timestamp, ZAD\n",
      "Expected: _c0 but found: \n",
      "CSV file: file:///workspaces/PySpark/DataFrame/assignment_df/dataset/ind-ban-comment.csv\n",
      "+---+-------+-----------------+------+-----------------+--------------------+------+---------+---+------+----------+--------+----+----+-------+-------------------+-------+\n",
      "|_c0|Batsman|     Batsman_Name|Bowler|      Bowler_Name|          Commentary|Detail|Dismissed| Id|Isball|Isboundary|Iswicket|Over|Runs|Summary|          Timestamp|    ZAD|\n",
      "+---+-------+-----------------+------+-----------------+--------------------+------+---------+---+------+----------+--------+----+----+-------+-------------------+-------+\n",
      "|  0|  28994|   Mohammed Shami| 63881|Mustafizur Rahman|OUT! Bowled! 5-fe...|     W|  28994.0|346|  true|      null|     1.0|49.6|   0|   null|2019-07-02 13:18:47|   null|\n",
      "|  1|   5132|Bhuvneshwar Kumar| 63881|Mustafizur Rahman|WIDE AND RUN OUT!...|  W+wd|   5132.0|344|  true|      null|     1.0|49.6|   1|   null|2019-07-02 13:17:28|   null|\n",
      "|  2|  28994|   Mohammed Shami| 63881|Mustafizur Rahman|Back of a length ...|  null|     null|343|  true|      null|    null|49.5|   1|   null|2019-07-02 13:16:03|8,349,3|\n",
      "|  3|   5132|Bhuvneshwar Kumar| 63881|Mustafizur Rahman|Just 1 run off th...|  null|     null|342|  true|      null|    null|49.4|   1|   null|2019-07-02 13:15:17|7,279,2|\n",
      "+---+-------+-----------------+------+-----------------+--------------------+------+---------+---+------+----------+--------+----+----+-------+-------------------+-------+\n",
      "only showing top 4 rows\n",
      "\n"
     ]
    }
   ],
   "source": [
    "# VIEW THE TOP 4 ROWS OF THE DATA USING THE SHOW FUNCTION\n",
    "\n",
    "\n",
    "## WRITE YOUR CODE HERE\n",
    "data.show(4)"
   ]
  },
  {
   "cell_type": "markdown",
   "metadata": {},
   "source": [
    "---\n",
    "\n",
    "#### `View only the following columns of the dataframe`\n",
    "\n",
    "    - Batsman_Name\n",
    "    - Bowler_Name\n",
    "    - Dismissed\n",
    "    - Isboundary\n",
    "    - Runs\n",
    "\n",
    "---"
   ]
  },
  {
   "cell_type": "code",
   "execution_count": 12,
   "metadata": {
    "scrolled": true
   },
   "outputs": [
    {
     "name": "stdout",
     "output_type": "stream",
     "text": [
      "+-----------------+------------------+---------+----------+----+\n",
      "|     Batsman_name|       Bowler_Name|Dismissed|Isboundary|Runs|\n",
      "+-----------------+------------------+---------+----------+----+\n",
      "|   Mohammed Shami| Mustafizur Rahman|  28994.0|      null|   0|\n",
      "|Bhuvneshwar Kumar| Mustafizur Rahman|   5132.0|      null|   1|\n",
      "|   Mohammed Shami| Mustafizur Rahman|     null|      null|   1|\n",
      "|Bhuvneshwar Kumar| Mustafizur Rahman|     null|      null|   1|\n",
      "|         MS Dhoni| Mustafizur Rahman|   3676.0|      null|   0|\n",
      "|         MS Dhoni| Mustafizur Rahman|     null|      null|   0|\n",
      "|         MS Dhoni| Mustafizur Rahman|     null|      null|   0|\n",
      "|         MS Dhoni|Mohammad Saifuddin|     null|      null|   1|\n",
      "|         MS Dhoni|Mohammad Saifuddin|     null|       1.0|   4|\n",
      "|         MS Dhoni|Mohammad Saifuddin|     null|      null|   0|\n",
      "|         MS Dhoni|Mohammad Saifuddin|     null|      null|   0|\n",
      "|         MS Dhoni|Mohammad Saifuddin|     null|       1.0|   4|\n",
      "|         MS Dhoni|Mohammad Saifuddin|     null|      null|   2|\n",
      "|Bhuvneshwar Kumar| Mustafizur Rahman|     null|      null|   0|\n",
      "|         MS Dhoni| Mustafizur Rahman|     null|      null|   1|\n",
      "|         MS Dhoni| Mustafizur Rahman|     null|      null|   0|\n",
      "|Bhuvneshwar Kumar| Mustafizur Rahman|     null|      null|   1|\n",
      "|   Dinesh Karthik| Mustafizur Rahman|   3632.0|      null|   0|\n",
      "|         MS Dhoni| Mustafizur Rahman|     null|      null|   1|\n",
      "|         MS Dhoni|Mohammad Saifuddin|     null|      null|   1|\n",
      "+-----------------+------------------+---------+----------+----+\n",
      "only showing top 20 rows\n",
      "\n"
     ]
    }
   ],
   "source": [
    "# WRITE YOUR CODE HERE\n",
    "data.select(['Batsman_name','Bowler_Name','Dismissed','Isboundary','Runs']).show()"
   ]
  },
  {
   "cell_type": "markdown",
   "metadata": {},
   "source": [
    "---\n",
    "\n",
    "#### Find out the number of runs scored by each batsman\n",
    "\n",
    "---"
   ]
  },
  {
   "cell_type": "code",
   "execution_count": 20,
   "metadata": {},
   "outputs": [
    {
     "name": "stdout",
     "output_type": "stream",
     "text": [
      "+------------------+----------+\n",
      "|      Batsman_name|Total Runs|\n",
      "+------------------+----------+\n",
      "|     Soumya Sarkar|        34|\n",
      "|  Mashrafe Mortaza|         8|\n",
      "|   Shakib Al Hasan|        68|\n",
      "|   Mushfiqur Rahim|        24|\n",
      "|Mohammad Saifuddin|        55|\n",
      "|         Liton Das|        22|\n",
      "|      Rishabh Pant|        55|\n",
      "|    Mohammed Shami|         1|\n",
      "|       Tamim Iqbal|        23|\n",
      "|     Hardik Pandya|         0|\n",
      "|          KL Rahul|        79|\n",
      "| Bhuvneshwar Kumar|         3|\n",
      "|     Rubel Hossain|         9|\n",
      "|      Rohit Sharma|       107|\n",
      "|    Dinesh Karthik|         8|\n",
      "|       Virat Kohli|        26|\n",
      "|          MS Dhoni|        35|\n",
      "|     Sabbir Rahman|        40|\n",
      "|  Mosaddek Hossain|         3|\n",
      "| Mustafizur Rahman|         0|\n",
      "+------------------+----------+\n",
      "\n"
     ]
    }
   ],
   "source": [
    "#### WRITE YOUR CODE HERE\n",
    "from pyspark.sql import functions\n",
    "grouped_data = data.groupBy(\"Batsman_name\")\n",
    "grouped_data_Runs = grouped_data.agg(functions.sum(\"Runs\").alias(\"Total Runs\"))\n",
    "grouped_data_Runs.show()"
   ]
  },
  {
   "cell_type": "code",
   "execution_count": 22,
   "metadata": {
    "scrolled": true
   },
   "outputs": [
    {
     "name": "stdout",
     "output_type": "stream",
     "text": [
      "+------------------+----------+\n",
      "|      Batsman_name|Total Runs|\n",
      "+------------------+----------+\n",
      "|      Rohit Sharma|       107|\n",
      "|          KL Rahul|        79|\n",
      "|   Shakib Al Hasan|        68|\n",
      "|Mohammad Saifuddin|        55|\n",
      "|      Rishabh Pant|        55|\n",
      "|     Sabbir Rahman|        40|\n",
      "|          MS Dhoni|        35|\n",
      "|     Soumya Sarkar|        34|\n",
      "|       Virat Kohli|        26|\n",
      "|   Mushfiqur Rahim|        24|\n",
      "|       Tamim Iqbal|        23|\n",
      "|         Liton Das|        22|\n",
      "|     Rubel Hossain|         9|\n",
      "|    Dinesh Karthik|         8|\n",
      "|  Mashrafe Mortaza|         8|\n",
      "| Bhuvneshwar Kumar|         3|\n",
      "|  Mosaddek Hossain|         3|\n",
      "|    Mohammed Shami|         1|\n",
      "|     Hardik Pandya|         0|\n",
      "| Mustafizur Rahman|         0|\n",
      "+------------------+----------+\n",
      "\n"
     ]
    }
   ],
   "source": [
    "# SHOW THE BATSMAN SCORED BY EACH RUN IN DESCENDING ORDER\n",
    "grouped_data_Runs.orderBy('Total Runs', ascending=False).show()"
   ]
  },
  {
   "cell_type": "markdown",
   "metadata": {},
   "source": [
    "---\n",
    "\n",
    "#### Which batsman scored the highest number of boundaries\n",
    "\n",
    "---"
   ]
  },
  {
   "cell_type": "code",
   "execution_count": 26,
   "metadata": {},
   "outputs": [
    {
     "name": "stdout",
     "output_type": "stream",
     "text": [
      "+------------+----------+\n",
      "|Batsman_name|Total Runs|\n",
      "+------------+----------+\n",
      "|Rohit Sharma|       107|\n",
      "+------------+----------+\n",
      "only showing top 1 row\n",
      "\n"
     ]
    }
   ],
   "source": [
    "## WRITE YOUR CODE HERE \n",
    "grouped_data_Runs.orderBy('Total Runs', ascending=False).show(1)"
   ]
  },
  {
   "cell_type": "markdown",
   "metadata": {},
   "source": [
    "---\n",
    "\n",
    "**Define a `udf` function that will create a new column on the basis of following condition**\n",
    "\n",
    "If the value of `Runs` is less than 2, then assign `A`, if value is between `3 to 5` then assign `B` else assign `C`\n",
    "\n",
    "\n",
    "---"
   ]
  },
  {
   "cell_type": "code",
   "execution_count": 27,
   "metadata": {},
   "outputs": [],
   "source": [
    "## WRITE YOUR CODE HERE\n",
    "def UserDefinedFunction(runs):\n",
    "    if runs < 2:\n",
    "        return 'A'\n",
    "    elif runs >= 3 and runs <= 5 :\n",
    "        return 'B'\n",
    "    else:\n",
    "        return 'C'"
   ]
  },
  {
   "cell_type": "code",
   "execution_count": 28,
   "metadata": {},
   "outputs": [],
   "source": [
    "from pyspark.sql.functions import expr, when   \n",
    "from pyspark.sql.functions import udf\n",
    "function_with_udf = udf(f= UserDefinedFunction, returnType= tp.StringType())\n",
    "updated_dataframe = data.withColumn(\"New_Column\",function_with_udf(data['Runs']))"
   ]
  },
  {
   "cell_type": "code",
   "execution_count": 29,
   "metadata": {},
   "outputs": [
    {
     "name": "stderr",
     "output_type": "stream",
     "text": [
      "[Stage 31:>                                                         (0 + 1) / 1]\r"
     ]
    },
    {
     "name": "stdout",
     "output_type": "stream",
     "text": [
      "22/07/02 08:42:10 WARN CSVHeaderChecker: CSV header does not conform to the schema.\n",
      " Header: , Batsman, Batsman_Name, Bowler, Bowler_Name, Commentary, Detail, Dismissed, Id, Isball, Isboundary, Iswicket, Over, Runs, Summary, Timestamp, ZAD\n",
      " Schema: _c0, Batsman, Batsman_Name, Bowler, Bowler_Name, Commentary, Detail, Dismissed, Id, Isball, Isboundary, Iswicket, Over, Runs, Summary, Timestamp, ZAD\n",
      "Expected: _c0 but found: \n",
      "CSV file: file:///workspaces/PySpark/DataFrame/assignment_df/dataset/ind-ban-comment.csv\n",
      "+---+-------+-----------------+------+------------------+--------------------+------+---------+---+------+----------+--------+----+----+--------------------+-------------------+-------+----------+\n",
      "|_c0|Batsman|     Batsman_Name|Bowler|       Bowler_Name|          Commentary|Detail|Dismissed| Id|Isball|Isboundary|Iswicket|Over|Runs|             Summary|          Timestamp|    ZAD|New_Column|\n",
      "+---+-------+-----------------+------+------------------+--------------------+------+---------+---+------+----------+--------+----+----+--------------------+-------------------+-------+----------+\n",
      "|  0|  28994|   Mohammed Shami| 63881| Mustafizur Rahman|OUT! Bowled! 5-fe...|     W|  28994.0|346|  true|      null|     1.0|49.6|   0|                null|2019-07-02 13:18:47|   null|         A|\n",
      "|  1|   5132|Bhuvneshwar Kumar| 63881| Mustafizur Rahman|WIDE AND RUN OUT!...|  W+wd|   5132.0|344|  true|      null|     1.0|49.6|   1|                null|2019-07-02 13:17:28|   null|         A|\n",
      "|  2|  28994|   Mohammed Shami| 63881| Mustafizur Rahman|Back of a length ...|  null|     null|343|  true|      null|    null|49.5|   1|                null|2019-07-02 13:16:03|8,349,3|         A|\n",
      "|  3|   5132|Bhuvneshwar Kumar| 63881| Mustafizur Rahman|Just 1 run off th...|  null|     null|342|  true|      null|    null|49.4|   1|                null|2019-07-02 13:15:17|7,279,2|         A|\n",
      "|  4|   3676|         MS Dhoni| 63881| Mustafizur Rahman|OUT! No Dhoni mag...|     W|   3676.0|340|  true|      null|     1.0|49.3|   0|                null|2019-07-02 13:13:39|   null|         A|\n",
      "|  5|   3676|         MS Dhoni| 63881| Mustafizur Rahman|Another dot. Bang...|  null|     null|339|  true|      null|    null|49.2|   0|                null|2019-07-02 13:12:47|   null|         A|\n",
      "|  6|   3676|         MS Dhoni| 63881| Mustafizur Rahman|Good length ball ...|  null|     null|338|  true|      null|    null|49.1|   0|                null|2019-07-02 13:12:21|   null|         A|\n",
      "|  7|   3676|         MS Dhoni| 64151|Mohammad Saifuddin|Good length ball ...|  null|     null|337|  true|      null|    null|48.6|   1|{'Score': '311/6'...|2019-07-02 13:10:58|5,202,2|         A|\n",
      "|  8|   3676|         MS Dhoni| 64151|Mohammad Saifuddin|FOUR! Dhoni rolli...|  null|     null|336|  true|       1.0|    null|48.5|   4|                null|2019-07-02 13:10:12|5,215,5|         B|\n",
      "|  9|   3676|         MS Dhoni| 64151|Mohammad Saifuddin|Slower delivery o...|  null|     null|335|  true|      null|    null|48.4|   0|                null|2019-07-02 13:09:46|   null|         A|\n",
      "| 10|   3676|         MS Dhoni| 64151|Mohammad Saifuddin|Fuller on off, Dh...|  null|     null|334|  true|      null|    null|48.3|   0|                null|2019-07-02 13:09:06|   null|         A|\n",
      "| 11|   3676|         MS Dhoni| 64151|Mohammad Saifuddin|FOUR! Driven with...|  null|     null|333|  true|       1.0|    null|48.2|   4|                null|2019-07-02 13:08:18|5,216,5|         B|\n",
      "| 12|   3676|         MS Dhoni| 64151|Mohammad Saifuddin|Good length ball ...|  null|     null|332|  true|      null|    null|48.1|   2|                null|2019-07-02 13:07:42|5,211,4|         C|\n",
      "| 13|   5132|Bhuvneshwar Kumar| 63881| Mustafizur Rahman|Slower bouncer to...|  null|     null|331|  true|      null|    null|47.6|   0|{'Score': '300/6'...|2019-07-02 13:06:42|   null|         A|\n",
      "| 14|   3676|         MS Dhoni| 63881| Mustafizur Rahman|Length delivery a...|  null|     null|330|  true|      null|    null|47.5|   1|                null|2019-07-02 13:06:15|3,126,4|         A|\n",
      "| 15|   3676|         MS Dhoni| 63881| Mustafizur Rahman|Good length ball ...|  null|     null|329|  true|      null|    null|47.4|   0|                null|2019-07-02 13:05:32|   null|         A|\n",
      "| 16|   5132|Bhuvneshwar Kumar| 63881| Mustafizur Rahman|Good length ball ...|  null|     null|328|  true|      null|    null|47.3|   1|                null|2019-07-02 13:04:58|5,187,2|         A|\n",
      "| 17|   3632|   Dinesh Karthik| 63881| Mustafizur Rahman|OUT! Caught! Kart...|     W|   3632.0|326|  true|      null|     1.0|47.2|   0|                null|2019-07-02 13:03:29|   null|         A|\n",
      "| 18|   3676|         MS Dhoni| 63881| Mustafizur Rahman|On the pads, Dhon...|  null|     null|325|  true|      null|    null|47.1|   1|                null|2019-07-02 13:02:17|8,339,3|         A|\n",
      "| 19|   3676|         MS Dhoni| 64151|Mohammad Saifuddin|Almost a calamity...|  null|     null|324|  true|      null|    null|46.6|   1|{'Score': '297/5'...|2019-07-02 13:01:16|4,147,4|         A|\n",
      "+---+-------+-----------------+------+------------------+--------------------+------+---------+---+------+----------+--------+----+----+--------------------+-------------------+-------+----------+\n",
      "only showing top 20 rows\n",
      "\n"
     ]
    },
    {
     "name": "stderr",
     "output_type": "stream",
     "text": [
      "                                                                                \r"
     ]
    }
   ],
   "source": [
    "updated_dataframe.show()"
   ]
  }
 ],
 "metadata": {
  "kernelspec": {
   "display_name": "Python 3.10.4 64-bit",
   "language": "python",
   "name": "python3"
  },
  "language_info": {
   "codemirror_mode": {
    "name": "ipython",
    "version": 3
   },
   "file_extension": ".py",
   "mimetype": "text/x-python",
   "name": "python",
   "nbconvert_exporter": "python",
   "pygments_lexer": "ipython3",
   "version": "3.10.4"
  },
  "vscode": {
   "interpreter": {
    "hash": "4f946df053fbf2b937619d3c5458e7af74262f9a954d8797ba0b27400bcafe06"
   }
  }
 },
 "nbformat": 4,
 "nbformat_minor": 2
}
