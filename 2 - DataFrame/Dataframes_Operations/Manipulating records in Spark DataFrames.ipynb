{
 "cells": [
  {
   "cell_type": "markdown",
   "metadata": {},
   "source": [
    "#### `Importing the Required Libraries`\n",
    "\n",
    "---"
   ]
  },
  {
   "cell_type": "code",
   "execution_count": 1,
   "metadata": {},
   "outputs": [],
   "source": [
    "from pyspark.sql import SparkSession\n",
    "import pyspark.sql.types as tp"
   ]
  },
  {
   "cell_type": "code",
   "execution_count": 2,
   "metadata": {
    "scrolled": true
   },
   "outputs": [
    {
     "name": "stdout",
     "output_type": "stream",
     "text": [
      "22/07/02 07:57:54 WARN Utils: Your hostname, codespaces-1d4809 resolves to a loopback address: 127.0.0.1; using 172.16.5.4 instead (on interface eth0)\n",
      "22/07/02 07:57:54 WARN Utils: Set SPARK_LOCAL_IP if you need to bind to another address\n"
     ]
    },
    {
     "name": "stderr",
     "output_type": "stream",
     "text": [
      "Setting default log level to \"WARN\".\n",
      "To adjust logging level use sc.setLogLevel(newLevel). For SparkR, use setLogLevel(newLevel).\n"
     ]
    },
    {
     "name": "stdout",
     "output_type": "stream",
     "text": [
      "22/07/02 07:57:54 WARN NativeCodeLoader: Unable to load native-hadoop library for your platform... using builtin-java classes where applicable\n"
     ]
    },
    {
     "data": {
      "text/html": [
       "\n",
       "            <div>\n",
       "                <p><b>SparkSession - in-memory</b></p>\n",
       "                \n",
       "        <div>\n",
       "            <p><b>SparkContext</b></p>\n",
       "\n",
       "            <p><a href=\"http://ccc8c059-204b-4c34-b61c-969b7a353399.internal.cloudapp.net:4040\">Spark UI</a></p>\n",
       "\n",
       "            <dl>\n",
       "              <dt>Version</dt>\n",
       "                <dd><code>v3.3.0</code></dd>\n",
       "              <dt>Master</dt>\n",
       "                <dd><code>local[*]</code></dd>\n",
       "              <dt>AppName</dt>\n",
       "                <dd><code>pyspark-shell</code></dd>\n",
       "            </dl>\n",
       "        </div>\n",
       "        \n",
       "            </div>\n",
       "        "
      ],
      "text/plain": [
       "<pyspark.sql.session.SparkSession at 0x7f82d8221d20>"
      ]
     },
     "execution_count": 2,
     "metadata": {},
     "output_type": "execute_result"
    }
   ],
   "source": [
    "spark = SparkSession.builder.getOrCreate()\n",
    "spark"
   ]
  },
  {
   "cell_type": "markdown",
   "metadata": {},
   "source": [
    "---\n",
    "Read healthcare analytics data\n",
    "\n",
    "---"
   ]
  },
  {
   "cell_type": "code",
   "execution_count": 3,
   "metadata": {},
   "outputs": [],
   "source": [
    "# Define the schema of the data\n",
    "my_schema = tp.StructType([\n",
    "    tp.StructField(name= \"case_id\",               dataType= tp.IntegerType()),\n",
    "    tp.StructField(name= \"hospital_code\",         dataType= tp.IntegerType()),\n",
    "    tp.StructField(name= \"hospital_type_code\",    dataType= tp.StringType()),\n",
    "    tp.StructField(name= \"city_code_hospital\",    dataType= tp.IntegerType()),\n",
    "    tp.StructField(name= \"hospital_region_code\",  dataType= tp.StringType()),\n",
    "    tp.StructField(name= \"extra_room_available\",  dataType= tp.IntegerType()),\n",
    "    tp.StructField(name= \"department\",            dataType= tp.StringType()),\n",
    "    tp.StructField(name= \"ward_type\",             dataType= tp.StringType()),\n",
    "    tp.StructField(name= \"ward_facility_code\",    dataType= tp.StringType()),\n",
    "    tp.StructField(name= \"bed_grade\",             dataType= tp.IntegerType()),\n",
    "    tp.StructField(name= \"patient_id\",            dataType= tp.IntegerType()),\n",
    "    tp.StructField(name= \"city_code_patient\",     dataType= tp.IntegerType()),\n",
    "    tp.StructField(name= \"admission_type\",        dataType= tp.StringType()),\n",
    "    tp.StructField(name= \"severity_of_illness\",   dataType= tp.StringType()),\n",
    "    tp.StructField(name= \"visitors_with_patient\", dataType= tp.IntegerType()),\n",
    "    tp.StructField(name= \"age\",                   dataType= tp.StringType()),\n",
    "    tp.StructField(name= \"admission_deposit\",     dataType= tp.FloatType()),\n",
    "    tp.StructField(name= \"stay\",                  dataType= tp.StringType()),\n",
    "])"
   ]
  },
  {
   "cell_type": "code",
   "execution_count": 4,
   "metadata": {},
   "outputs": [],
   "source": [
    "# Read data\n",
    "healthcare_data = spark.read.csv('dataset/train.csv', schema=my_schema, header=True)"
   ]
  },
  {
   "cell_type": "code",
   "execution_count": 5,
   "metadata": {},
   "outputs": [
    {
     "name": "stdout",
     "output_type": "stream",
     "text": [
      "22/07/02 07:58:16 WARN CSVHeaderChecker: CSV header does not conform to the schema.\n",
      " Header: case_id, Hospital_code, Department, Ward_Type, patientid, Visitors with Patient, Age\n",
      " Schema: case_id, hospital_code, department, ward_type, patient_id, visitors_with_patient, age\n",
      "Expected: patient_id but found: patientid\n",
      "CSV file: file:///workspaces/PySpark/DataFrame/Dataframes_Operations/dataset/train.csv\n",
      "+-------+-------------+------------+---------+----------+-----+---------------------+\n",
      "|case_id|hospital_code|  department|ward_type|patient_id|  age|visitors_with_patient|\n",
      "+-------+-------------+------------+---------+----------+-----+---------------------+\n",
      "|      1|            8|radiotherapy|        R|     31397|51-60|                    2|\n",
      "|      2|            2|radiotherapy|        S|     31397|51-60|                    2|\n",
      "|      3|           10|  anesthesia|        S|     31397|51-60|                    2|\n",
      "|      4|           26|radiotherapy|        R|     31397|51-60|                    2|\n",
      "|      5|           26|radiotherapy|        S|     31397|51-60|                    2|\n",
      "|      6|           23|  anesthesia|        S|     31397|51-60|                    2|\n",
      "|      7|           32|radiotherapy|        S|     31397|51-60|                    2|\n",
      "|      8|           23|radiotherapy|        Q|     31397|51-60|                    2|\n",
      "|      9|            1|  gynecology|        R|     31397|51-60|                    2|\n",
      "|     10|           10|  gynecology|        S|     31397|51-60|                    2|\n",
      "|     11|           22|radiotherapy|        S|     31397|51-60|                    2|\n",
      "|     12|           26|radiotherapy|        R|     31397|51-60|                    2|\n",
      "|     13|           16|radiotherapy|        R|     31397|51-60|                    2|\n",
      "|     14|            9|radiotherapy|        S|     31397|51-60|                    2|\n",
      "|     15|            6|  gynecology|        Q|     63418|71-80|                    2|\n",
      "|     16|            6|  gynecology|        Q|     63418|71-80|                    2|\n",
      "|     17|           23|radiotherapy|        Q|     63418|71-80|                    4|\n",
      "|     18|           29|  anesthesia|        S|     63418|71-80|                    2|\n",
      "|     19|           32|radiotherapy|        S|     63418|71-80|                    2|\n",
      "|     20|           12|radiotherapy|        Q|     63418|71-80|                    2|\n",
      "+-------+-------------+------------+---------+----------+-----+---------------------+\n",
      "only showing top 20 rows\n",
      "\n"
     ]
    }
   ],
   "source": [
    "# Sample data\n",
    "sample_data = healthcare_data.select(\"case_id\",\n",
    "                                     \"hospital_code\",\n",
    "                                     \"department\",\n",
    "                                     \"ward_type\",\n",
    "                                     \"patient_id\",\n",
    "                                     \"age\",\n",
    "                                     \"visitors_with_patient\")\n",
    "\n",
    "# Display data\n",
    "sample_data.show()"
   ]
  },
  {
   "cell_type": "markdown",
   "metadata": {},
   "source": [
    "---\n",
    "---\n",
    "\n",
    "\n",
    "#### `Sorting`\n",
    "\n",
    "\n",
    "Sort the data using the [orderBy](https://spark.apache.org/docs/2.1.0/api/python/pyspark.sql.html#pyspark.sql.DataFrame.orderBy) function. \n",
    "\n",
    "Pass the parameter on which you want to sort the data. \n",
    "\n",
    "We will sort the dataframe on `hospital_code`. By default, it will sort in ascending order.\n",
    "\n",
    "\n",
    "---"
   ]
  },
  {
   "cell_type": "code",
   "execution_count": 6,
   "metadata": {},
   "outputs": [],
   "source": [
    "# Sort data\n",
    "sorted_df = sample_data.orderBy([\"hospital_code\"])"
   ]
  },
  {
   "cell_type": "code",
   "execution_count": 7,
   "metadata": {
    "scrolled": true
   },
   "outputs": [
    {
     "name": "stdout",
     "output_type": "stream",
     "text": [
      "22/07/02 07:58:34 WARN CSVHeaderChecker: CSV header does not conform to the schema.\n",
      " Header: case_id, Hospital_code, Department, Ward_Type, patientid, Visitors with Patient, Age\n",
      " Schema: case_id, hospital_code, department, ward_type, patient_id, visitors_with_patient, age\n",
      "Expected: patient_id but found: patientid\n",
      "CSV file: file:///workspaces/PySpark/DataFrame/Dataframes_Operations/dataset/train.csv\n"
     ]
    },
    {
     "name": "stderr",
     "output_type": "stream",
     "text": [
      "[Stage 1:>                                                          (0 + 4) / 4]\r"
     ]
    },
    {
     "name": "stdout",
     "output_type": "stream",
     "text": [
      "+-------+-------------+------------------+---------+----------+-----+---------------------+\n",
      "|case_id|hospital_code|        department|ward_type|patient_id|  age|visitors_with_patient|\n",
      "+-------+-------------+------------------+---------+----------+-----+---------------------+\n",
      "| 276466|            1|        gynecology|        Q|    116199|41-50|                    4|\n",
      "| 276927|            1|        gynecology|        R|     19056|41-50|                    6|\n",
      "| 276468|            1|        gynecology|        S|     29794|51-60|                    3|\n",
      "| 276055|            1|        gynecology|        Q|    101818|71-80|                    6|\n",
      "| 276469|            1|        gynecology|        S|     29794|51-60|                    3|\n",
      "| 276117|            1|      radiotherapy|        Q|      5492|21-30|                    4|\n",
      "| 276347|            1|        gynecology|        S|     84253|51-60|                    4|\n",
      "| 276044|            1|        gynecology|        R|     92420|71-80|                    3|\n",
      "| 276064|            1|        gynecology|        S|     41369|61-70|                    4|\n",
      "| 276197|            1|        gynecology|        Q|     26388|11-20|                    2|\n",
      "| 276346|            1|TB & Chest disease|        S|     84253|51-60|                    2|\n",
      "| 276550|            1|      radiotherapy|        R|    106313|61-70|                    4|\n",
      "| 276551|            1|      radiotherapy|        R|    106313|61-70|                    4|\n",
      "| 276559|            1|      radiotherapy|        Q|    106313|61-70|                    6|\n",
      "| 276561|            1|        gynecology|        Q|     56262|31-40|                    3|\n",
      "| 276578|            1|        gynecology|        Q|    111930|31-40|                    5|\n",
      "| 276793|            1|        gynecology|        Q|     68352|51-60|                    2|\n",
      "| 276815|            1|        gynecology|        S|     41381|21-30|                    4|\n",
      "| 276821|            1|        gynecology|        S|    109047|31-40|                    2|\n",
      "| 276905|            1|        gynecology|        S|     35754|31-40|                    4|\n",
      "+-------+-------------+------------------+---------+----------+-----+---------------------+\n",
      "only showing top 20 rows\n",
      "\n"
     ]
    },
    {
     "name": "stderr",
     "output_type": "stream",
     "text": [
      "                                                                                \r"
     ]
    }
   ],
   "source": [
    "# Display data\n",
    "sorted_df.show()"
   ]
  },
  {
   "cell_type": "markdown",
   "metadata": {},
   "source": [
    "---\n",
    "\n",
    "\n",
    "To sort in the decreasing order, pass the argument `ascending = False` inside the  `orderBy` function.\n",
    "\n",
    "---"
   ]
  },
  {
   "cell_type": "code",
   "execution_count": 8,
   "metadata": {},
   "outputs": [],
   "source": [
    "# Sort in descending order\n",
    "sorted_df_descending = sample_data.orderBy([\"hospital_code\"], ascending = False)"
   ]
  },
  {
   "cell_type": "code",
   "execution_count": 9,
   "metadata": {
    "scrolled": true
   },
   "outputs": [
    {
     "name": "stdout",
     "output_type": "stream",
     "text": [
      "22/07/02 07:58:39 WARN CSVHeaderChecker: CSV header does not conform to the schema.\n",
      " Header: case_id, Hospital_code, Department, Ward_Type, patientid, Visitors with Patient, Age\n",
      " Schema: case_id, hospital_code, department, ward_type, patient_id, visitors_with_patient, age\n",
      "Expected: patient_id but found: patientid\n",
      "CSV file: file:///workspaces/PySpark/DataFrame/Dataframes_Operations/dataset/train.csv\n",
      "+-------+-------------+------------------+---------+----------+-----+---------------------+\n",
      "|case_id|hospital_code|        department|ward_type|patient_id|  age|visitors_with_patient|\n",
      "+-------+-------------+------------------+---------+----------+-----+---------------------+\n",
      "| 276434|           32|      radiotherapy|        S|      3865|71-80|                    2|\n",
      "| 276435|           32|        gynecology|        S|     25341| 0-10|                    4|\n",
      "| 276198|           32|        gynecology|        S|     26388|11-20|                    2|\n",
      "| 276436|           32|        gynecology|        S|     25341| 0-10|                    4|\n",
      "| 276047|           32|        gynecology|        S|    125842|61-70|                    2|\n",
      "| 276508|           32|        gynecology|        S|      5198|51-60|                    2|\n",
      "| 276176|           32|        gynecology|        S|     66075|41-50|                    3|\n",
      "| 276568|           32|        gynecology|        S|      3164|31-40|                    2|\n",
      "| 276034|           32|        anesthesia|        S|     61611|41-50|                    2|\n",
      "| 276597|           32|        gynecology|        S|    110049|31-40|                    4|\n",
      "| 276312|           32|      radiotherapy|        S|     35290|21-30|                    2|\n",
      "| 276713|           32|TB & Chest disease|        S|    112599|41-50|                    2|\n",
      "| 276954|           32|        gynecology|        S|     50565|51-60|                    2|\n",
      "| 276725|           32|        gynecology|        S|     75443|51-60|                    2|\n",
      "| 276939|           32|        anesthesia|        S|     58886|71-80|                    4|\n",
      "| 276767|           32|        gynecology|        S|     13067|21-30|                    2|\n",
      "| 276065|           32|        gynecology|        S|     41369|61-70|                    2|\n",
      "| 276862|           32|        gynecology|        S|     95455|81-90|                    2|\n",
      "| 276239|           32|        gynecology|        S|     37768|71-80|                    5|\n",
      "| 276864|           32|        gynecology|        S|     83606|11-20|                    2|\n",
      "+-------+-------------+------------------+---------+----------+-----+---------------------+\n",
      "only showing top 20 rows\n",
      "\n"
     ]
    },
    {
     "name": "stderr",
     "output_type": "stream",
     "text": [
      "                                                                                \r"
     ]
    }
   ],
   "source": [
    "# Display data\n",
    "sorted_df_descending.show()"
   ]
  },
  {
   "cell_type": "markdown",
   "metadata": {},
   "source": [
    "---\n",
    "\n",
    "To sort on multiple columns, just pass the list of column names in the orderBy function. Also pass a list of `True/False` with ascending parameter with respect to each of the columns.\n",
    "\n",
    "---"
   ]
  },
  {
   "cell_type": "code",
   "execution_count": 10,
   "metadata": {},
   "outputs": [],
   "source": [
    "# Sort by multiple columns\n",
    "\n",
    "# hospital_code in ascending order\n",
    "# visitors_with_patient in descending order\n",
    "\n",
    "sorted_df_multiple = sample_data.orderBy([\"hospital_code\", \"visitors_with_patient\"], ascending = [True, False])"
   ]
  },
  {
   "cell_type": "code",
   "execution_count": 11,
   "metadata": {
    "scrolled": true
   },
   "outputs": [
    {
     "name": "stdout",
     "output_type": "stream",
     "text": [
      "22/07/02 07:58:43 WARN CSVHeaderChecker: CSV header does not conform to the schema.\n",
      " Header: case_id, Hospital_code, Department, Ward_Type, patientid, Visitors with Patient, Age\n",
      " Schema: case_id, hospital_code, department, ward_type, patient_id, visitors_with_patient, age\n",
      "Expected: patient_id but found: patientid\n",
      "CSV file: file:///workspaces/PySpark/DataFrame/Dataframes_Operations/dataset/train.csv\n",
      "+-------+-------------+----------+---------+----------+-----+---------------------+\n",
      "|case_id|hospital_code|department|ward_type|patient_id|  age|visitors_with_patient|\n",
      "+-------+-------------+----------+---------+----------+-----+---------------------+\n",
      "|  66407|            1|gynecology|        S|     29947|61-70|                   23|\n",
      "| 133483|            1|gynecology|        S|     36014|81-90|                   16|\n",
      "| 239066|            1|gynecology|        S|     16740|61-70|                   16|\n",
      "| 239067|            1|gynecology|        S|     16740|61-70|                   16|\n",
      "|  45583|            1|gynecology|        Q|     74432|51-60|                   15|\n",
      "|  97085|            1|gynecology|        R|      3191|11-20|                   15|\n",
      "| 101959|            1|gynecology|        T|     81590|31-40|                   15|\n",
      "|  48238|            1|anesthesia|        Q|    117410|31-40|                   15|\n",
      "|  97374|            1|gynecology|        Q|     48239|31-40|                   12|\n",
      "| 111872|            1|gynecology|        R|     85128|41-50|                   12|\n",
      "|  89159|            1|gynecology|        S|     24024|61-70|                   12|\n",
      "|   4150|            1|gynecology|        R|     25950|61-70|                   12|\n",
      "| 111871|            1|gynecology|        S|     85128|41-50|                   12|\n",
      "|  89156|            1|gynecology|        Q|     24024|61-70|                   12|\n",
      "| 111874|            1|gynecology|        R|     85128|41-50|                   12|\n",
      "|  89158|            1|gynecology|        R|     24024|61-70|                   12|\n",
      "| 134186|            1|gynecology|        R|    125414|71-80|                   12|\n",
      "| 134187|            1|gynecology|        R|    125414|71-80|                   12|\n",
      "| 111873|            1|gynecology|        R|     85128|41-50|                   12|\n",
      "|  89157|            1|gynecology|        Q|     24024|61-70|                   12|\n",
      "+-------+-------------+----------+---------+----------+-----+---------------------+\n",
      "only showing top 20 rows\n",
      "\n"
     ]
    }
   ],
   "source": [
    "# Display data\n",
    "sorted_df_multiple.show()"
   ]
  },
  {
   "cell_type": "markdown",
   "metadata": {},
   "source": [
    "---\n",
    "---\n",
    "#### `Aggregation & Group By`\n",
    "\n",
    "You can get the aggregated results on the dataframe using the [groupBy](https://spark.apache.org/docs/2.1.0/api/python/pyspark.sql.html#pyspark.sql.DataFrame.orderBy) function. \n",
    "\n",
    "First group the data using the `groupBy` function, then use the function you want to apply on the grouped data.\n",
    "\n",
    "We will find out the average number of `visitors_with_patient` for each `hospital code`.\n",
    "\n",
    "\n",
    "---"
   ]
  },
  {
   "cell_type": "code",
   "execution_count": 12,
   "metadata": {},
   "outputs": [],
   "source": [
    "# Import functions\n",
    "from pyspark.sql.functions import countDistinct, avg"
   ]
  },
  {
   "cell_type": "code",
   "execution_count": 13,
   "metadata": {},
   "outputs": [],
   "source": [
    "# Group the data on hospital_code\n",
    "grouped_data = sample_data.groupBy(\"hospital_code\")"
   ]
  },
  {
   "cell_type": "code",
   "execution_count": 14,
   "metadata": {},
   "outputs": [],
   "source": [
    "# Average number of visitors_with_patient\n",
    "grouped_data_average_visitors = grouped_data.agg(avg(\"visitors_with_patient\"))"
   ]
  },
  {
   "cell_type": "code",
   "execution_count": 15,
   "metadata": {
    "scrolled": true
   },
   "outputs": [
    {
     "name": "stdout",
     "output_type": "stream",
     "text": [
      "22/07/02 07:58:52 WARN CSVHeaderChecker: CSV header does not conform to the schema.\n",
      " Header: Hospital_code, Visitors with Patient\n",
      " Schema: hospital_code, visitors_with_patient\n",
      "Expected: visitors_with_patient but found: Visitors with Patient\n",
      "CSV file: file:///workspaces/PySpark/DataFrame/Dataframes_Operations/dataset/train.csv\n",
      "+-------------+--------------------------+\n",
      "|hospital_code|avg(visitors_with_patient)|\n",
      "+-------------+--------------------------+\n",
      "|           31|        2.9238719435341567|\n",
      "|           28|         3.272218007819338|\n",
      "|           26|         3.333504655943887|\n",
      "|           27|         3.098989048020219|\n",
      "|           12|        3.3176064441887227|\n",
      "|           22|          3.11620294599018|\n",
      "|            1|         3.345018098685464|\n",
      "|           13|        2.9574102368220014|\n",
      "|           16|        2.9997275946608553|\n",
      "|            6|        3.5002692778457773|\n",
      "|            3|         3.188026981450253|\n",
      "|           20|        2.9430604982206408|\n",
      "|            5|        3.3221820946588103|\n",
      "|           19|         3.621424195296668|\n",
      "|           15|         3.307334989737496|\n",
      "|            9|        3.3440486533449176|\n",
      "|           17|        3.0563533902926743|\n",
      "|            4|        2.6298387096774194|\n",
      "|            8|        3.2082992082992083|\n",
      "|           23|        3.4961605059098093|\n",
      "+-------------+--------------------------+\n",
      "only showing top 20 rows\n",
      "\n"
     ]
    }
   ],
   "source": [
    "# Display data\n",
    "grouped_data_average_visitors.show()"
   ]
  },
  {
   "cell_type": "code",
   "execution_count": 16,
   "metadata": {},
   "outputs": [
    {
     "name": "stdout",
     "output_type": "stream",
     "text": [
      "22/07/02 07:58:54 WARN CSVHeaderChecker: CSV header does not conform to the schema.\n",
      " Header: Hospital_code, Visitors with Patient\n",
      " Schema: hospital_code, visitors_with_patient\n",
      "Expected: visitors_with_patient but found: Visitors with Patient\n",
      "CSV file: file:///workspaces/PySpark/DataFrame/Dataframes_Operations/dataset/train.csv\n",
      "+-------------+--------------------------+\n",
      "|hospital_code|avg(visitors_with_patient)|\n",
      "+-------------+--------------------------+\n",
      "|            1|         3.345018098685464|\n",
      "|            2|         3.202469619756958|\n",
      "|            3|         3.188026981450253|\n",
      "|            4|        2.6298387096774194|\n",
      "|            5|        3.3221820946588103|\n",
      "|            6|        3.5002692778457773|\n",
      "|            7|         2.768759571209801|\n",
      "|            8|        3.2082992082992083|\n",
      "|            9|        3.3440486533449176|\n",
      "|           10|        3.1571807101218865|\n",
      "|           11|        3.4263619575253923|\n",
      "|           12|        3.3176064441887227|\n",
      "|           13|        2.9574102368220014|\n",
      "|           14|        3.3149238227146816|\n",
      "|           15|         3.307334989737496|\n",
      "|           16|        2.9997275946608553|\n",
      "|           17|        3.0563533902926743|\n",
      "|           18|         3.474104683195592|\n",
      "|           19|         3.621424195296668|\n",
      "|           20|        2.9430604982206408|\n",
      "+-------------+--------------------------+\n",
      "only showing top 20 rows\n",
      "\n"
     ]
    }
   ],
   "source": [
    "# Sort grouped data\n",
    "grouped_data_average_visitors.orderBy(['hospital_code']).show()"
   ]
  },
  {
   "cell_type": "markdown",
   "metadata": {},
   "source": [
    "---\n",
    "\n",
    "Now, we can see that in the above result, the name of the second column is coming as `avg(visitors_with_patients)`. In case we want to change it, we can use [alias](https://spark.apache.org/docs/2.1.0/api/python/pyspark.sql.html#pyspark.sql.DataFrame.orderBy).\n",
    "\n",
    "See the below example where we will calculate the number of unique `patient_id` in each department. We will pass the name of the column as `unique_patients` in the `alias` function.\n",
    "\n",
    "\n",
    "---"
   ]
  },
  {
   "cell_type": "code",
   "execution_count": 17,
   "metadata": {},
   "outputs": [],
   "source": [
    "# Group data on department column\n",
    "grouped_data_department = sample_data.groupBy(\"department\")"
   ]
  },
  {
   "cell_type": "code",
   "execution_count": 18,
   "metadata": {},
   "outputs": [],
   "source": [
    "# Calculate unique patient_id per department\n",
    "# Rename new column as \"unique_patients\"\n",
    "\n",
    "grouped_data_department_unique_patient = grouped_data_department.agg(countDistinct(\"patient_id\").alias(\"unique_patients\"))"
   ]
  },
  {
   "cell_type": "code",
   "execution_count": 19,
   "metadata": {
    "scrolled": true
   },
   "outputs": [
    {
     "name": "stdout",
     "output_type": "stream",
     "text": [
      "22/07/02 07:59:02 WARN CSVHeaderChecker: CSV header does not conform to the schema.\n",
      " Header: Department, patientid\n",
      " Schema: department, patient_id\n",
      "Expected: patient_id but found: patientid\n",
      "CSV file: file:///workspaces/PySpark/DataFrame/Dataframes_Operations/dataset/train.csv\n"
     ]
    },
    {
     "name": "stderr",
     "output_type": "stream",
     "text": [
      "[Stage 10:==============>                                           (1 + 3) / 4]\r"
     ]
    },
    {
     "name": "stdout",
     "output_type": "stream",
     "text": [
      "+------------------+---------------+\n",
      "|        department|unique_patients|\n",
      "+------------------+---------------+\n",
      "|      radiotherapy|          14524|\n",
      "|        anesthesia|          18204|\n",
      "|TB & Chest disease|           6610|\n",
      "|        gynecology|          83951|\n",
      "|           surgery|            572|\n",
      "+------------------+---------------+\n",
      "\n"
     ]
    },
    {
     "name": "stderr",
     "output_type": "stream",
     "text": [
      "                                                                                \r"
     ]
    }
   ],
   "source": [
    "# Display data\n",
    "grouped_data_department_unique_patient.show()"
   ]
  },
  {
   "cell_type": "markdown",
   "metadata": {},
   "source": [
    "----\n",
    "\n",
    "Now, if you want to see aggregated results in multiple columns, you can pass the list as follows.\n",
    "\n",
    "----"
   ]
  },
  {
   "cell_type": "code",
   "execution_count": 20,
   "metadata": {},
   "outputs": [],
   "source": [
    "# Calculate unique patient_id per department\n",
    "# Calculate average visitors_with_patient per department\n",
    "# Rename each column\n",
    "\n",
    "grouped_data_multiple_columns = grouped_data_department.agg(countDistinct(\"patient_id\").alias(\"unique_patient\"), \n",
    "                                                            avg(\"visitors_with_patient\").alias(\"average_patient_visitors\"))"
   ]
  },
  {
   "cell_type": "code",
   "execution_count": 21,
   "metadata": {},
   "outputs": [
    {
     "name": "stdout",
     "output_type": "stream",
     "text": [
      "22/07/02 07:59:09 WARN CSVHeaderChecker: CSV header does not conform to the schema.\n",
      " Header: Department, patientid, Visitors with Patient\n",
      " Schema: department, patient_id, visitors_with_patient\n",
      "Expected: patient_id but found: patientid\n",
      "CSV file: file:///workspaces/PySpark/DataFrame/Dataframes_Operations/dataset/train.csv\n"
     ]
    },
    {
     "name": "stderr",
     "output_type": "stream",
     "text": [
      "[Stage 16:==============>                                           (1 + 3) / 4]\r"
     ]
    },
    {
     "name": "stdout",
     "output_type": "stream",
     "text": [
      "+------------------+--------------+------------------------+\n",
      "|        department|unique_patient|average_patient_visitors|\n",
      "+------------------+--------------+------------------------+\n",
      "|           surgery|           572|      3.7577019150707742|\n",
      "|TB & Chest disease|          6610|       3.350093886918423|\n",
      "|      radiotherapy|         14524|       3.376595595455183|\n",
      "|        anesthesia|         18204|      3.0917062970083307|\n",
      "|        gynecology|         83951|      3.2915754791852048|\n",
      "+------------------+--------------+------------------------+\n",
      "\n"
     ]
    },
    {
     "name": "stderr",
     "output_type": "stream",
     "text": [
      "                                                                                \r"
     ]
    }
   ],
   "source": [
    "# Display data\n",
    "grouped_data_multiple_columns.orderBy(['unique_patient']).show()"
   ]
  },
  {
   "cell_type": "markdown",
   "metadata": {},
   "source": [
    "---\n",
    "---\n",
    "#### `Read case url data`\n",
    "\n",
    "Read file on case url data of patient cases.\n",
    "\n",
    "---"
   ]
  },
  {
   "cell_type": "code",
   "execution_count": 22,
   "metadata": {},
   "outputs": [],
   "source": [
    "# Define the schema of the data\n",
    "case_schema = tp.StructType([\n",
    "                tp.StructField(name= \"case_id\", dataType= tp.IntegerType()),\n",
    "                tp.StructField(name= \"case_url\", dataType= tp.StringType())\n",
    "])"
   ]
  },
  {
   "cell_type": "code",
   "execution_count": 24,
   "metadata": {},
   "outputs": [],
   "source": [
    "# Read data\n",
    "case_data = spark.read.csv('dataset/case_url.csv', schema=case_schema, header=True)"
   ]
  },
  {
   "cell_type": "code",
   "execution_count": 25,
   "metadata": {},
   "outputs": [
    {
     "name": "stdout",
     "output_type": "stream",
     "text": [
      "+-------+--------------------+\n",
      "|case_id|            case_url|\n",
      "+-------+--------------------+\n",
      "|      0|https://www.healt...|\n",
      "|      1|https://www.healt...|\n",
      "|      2|https://www.healt...|\n",
      "|      3|https://www.healt...|\n",
      "|      4|https://www.healt...|\n",
      "|      5|https://www.healt...|\n",
      "|      6|https://www.healt...|\n",
      "|      7|https://www.healt...|\n",
      "|      8|https://www.healt...|\n",
      "|      9|https://www.healt...|\n",
      "|     10|https://www.healt...|\n",
      "|     11|https://www.healt...|\n",
      "|     12|https://www.healt...|\n",
      "|     13|https://www.healt...|\n",
      "|     14|https://www.healt...|\n",
      "|     15|https://www.healt...|\n",
      "|     16|https://www.healt...|\n",
      "|     17|https://www.healt...|\n",
      "|     18|https://www.healt...|\n",
      "|     19|https://www.healt...|\n",
      "+-------+--------------------+\n",
      "only showing top 20 rows\n",
      "\n"
     ]
    }
   ],
   "source": [
    "# Display dataframe\n",
    "case_data.show()"
   ]
  },
  {
   "cell_type": "markdown",
   "metadata": {},
   "source": [
    "----\n",
    "----\n",
    "#### `Joins`\n",
    "\n",
    "[Join](https://spark.apache.org/docs/latest/api/python/pyspark.sql.html?highlight=join#pyspark.sql.DataFrame.join) healthcare analytics data with case url data.\n",
    "\n",
    "---"
   ]
  },
  {
   "cell_type": "code",
   "execution_count": 26,
   "metadata": {},
   "outputs": [
    {
     "name": "stdout",
     "output_type": "stream",
     "text": [
      "22/07/02 07:59:38 WARN CSVHeaderChecker: CSV header does not conform to the schema.\n",
      " Header: case_id, Hospital_code, Department, Ward_Type, patientid, Visitors with Patient, Age\n",
      " Schema: case_id, hospital_code, department, ward_type, patient_id, visitors_with_patient, age\n",
      "Expected: patient_id but found: patientid\n",
      "CSV file: file:///workspaces/PySpark/DataFrame/Dataframes_Operations/dataset/train.csv\n",
      "+-------+-------------+------------+---------+----------+-----+---------------------+\n",
      "|case_id|hospital_code|  department|ward_type|patient_id|  age|visitors_with_patient|\n",
      "+-------+-------------+------------+---------+----------+-----+---------------------+\n",
      "|      1|            8|radiotherapy|        R|     31397|51-60|                    2|\n",
      "|      2|            2|radiotherapy|        S|     31397|51-60|                    2|\n",
      "|      3|           10|  anesthesia|        S|     31397|51-60|                    2|\n",
      "|      4|           26|radiotherapy|        R|     31397|51-60|                    2|\n",
      "|      5|           26|radiotherapy|        S|     31397|51-60|                    2|\n",
      "|      6|           23|  anesthesia|        S|     31397|51-60|                    2|\n",
      "|      7|           32|radiotherapy|        S|     31397|51-60|                    2|\n",
      "|      8|           23|radiotherapy|        Q|     31397|51-60|                    2|\n",
      "|      9|            1|  gynecology|        R|     31397|51-60|                    2|\n",
      "|     10|           10|  gynecology|        S|     31397|51-60|                    2|\n",
      "|     11|           22|radiotherapy|        S|     31397|51-60|                    2|\n",
      "|     12|           26|radiotherapy|        R|     31397|51-60|                    2|\n",
      "|     13|           16|radiotherapy|        R|     31397|51-60|                    2|\n",
      "|     14|            9|radiotherapy|        S|     31397|51-60|                    2|\n",
      "|     15|            6|  gynecology|        Q|     63418|71-80|                    2|\n",
      "|     16|            6|  gynecology|        Q|     63418|71-80|                    2|\n",
      "|     17|           23|radiotherapy|        Q|     63418|71-80|                    4|\n",
      "|     18|           29|  anesthesia|        S|     63418|71-80|                    2|\n",
      "|     19|           32|radiotherapy|        S|     63418|71-80|                    2|\n",
      "|     20|           12|radiotherapy|        Q|     63418|71-80|                    2|\n",
      "+-------+-------------+------------+---------+----------+-----+---------------------+\n",
      "only showing top 20 rows\n",
      "\n"
     ]
    }
   ],
   "source": [
    "# healthcare analytics data\n",
    "sample_data.show()"
   ]
  },
  {
   "cell_type": "code",
   "execution_count": 27,
   "metadata": {},
   "outputs": [
    {
     "name": "stdout",
     "output_type": "stream",
     "text": [
      "+-------+--------------------+\n",
      "|case_id|            case_url|\n",
      "+-------+--------------------+\n",
      "|      0|https://www.healt...|\n",
      "|      1|https://www.healt...|\n",
      "|      2|https://www.healt...|\n",
      "|      3|https://www.healt...|\n",
      "|      4|https://www.healt...|\n",
      "|      5|https://www.healt...|\n",
      "|      6|https://www.healt...|\n",
      "|      7|https://www.healt...|\n",
      "|      8|https://www.healt...|\n",
      "|      9|https://www.healt...|\n",
      "|     10|https://www.healt...|\n",
      "|     11|https://www.healt...|\n",
      "|     12|https://www.healt...|\n",
      "|     13|https://www.healt...|\n",
      "|     14|https://www.healt...|\n",
      "|     15|https://www.healt...|\n",
      "|     16|https://www.healt...|\n",
      "|     17|https://www.healt...|\n",
      "|     18|https://www.healt...|\n",
      "|     19|https://www.healt...|\n",
      "+-------+--------------------+\n",
      "only showing top 20 rows\n",
      "\n"
     ]
    }
   ],
   "source": [
    "# case url data\n",
    "case_data.show()"
   ]
  },
  {
   "cell_type": "markdown",
   "metadata": {},
   "source": [
    "---\n",
    "<center>Inner join</center>\n",
    "\n",
    "<center><img src= \"images/inner_join.png\"></center>\n",
    "\n",
    "---"
   ]
  },
  {
   "cell_type": "code",
   "execution_count": 28,
   "metadata": {},
   "outputs": [],
   "source": [
    "# Inner join\n",
    "inner_join_df = sample_data.join(case_data, 'case_id')"
   ]
  },
  {
   "cell_type": "code",
   "execution_count": 29,
   "metadata": {},
   "outputs": [
    {
     "name": "stdout",
     "output_type": "stream",
     "text": [
      "22/07/02 07:59:52 WARN CSVHeaderChecker: CSV header does not conform to the schema.\n",
      " Header: case_id, Hospital_code, Department, Ward_Type, patientid, Visitors with Patient, Age\n",
      " Schema: case_id, hospital_code, department, ward_type, patient_id, visitors_with_patient, age\n",
      "Expected: patient_id but found: patientid\n",
      "CSV file: file:///workspaces/PySpark/DataFrame/Dataframes_Operations/dataset/train.csv\n",
      "+-------+-------------+------------+---------+----------+-----+---------------------+--------------------+\n",
      "|case_id|hospital_code|  department|ward_type|patient_id|  age|visitors_with_patient|            case_url|\n",
      "+-------+-------------+------------+---------+----------+-----+---------------------+--------------------+\n",
      "|      1|            8|radiotherapy|        R|     31397|51-60|                    2|https://www.healt...|\n",
      "|      2|            2|radiotherapy|        S|     31397|51-60|                    2|https://www.healt...|\n",
      "|      3|           10|  anesthesia|        S|     31397|51-60|                    2|https://www.healt...|\n",
      "|      4|           26|radiotherapy|        R|     31397|51-60|                    2|https://www.healt...|\n",
      "|      5|           26|radiotherapy|        S|     31397|51-60|                    2|https://www.healt...|\n",
      "|      6|           23|  anesthesia|        S|     31397|51-60|                    2|https://www.healt...|\n",
      "|      7|           32|radiotherapy|        S|     31397|51-60|                    2|https://www.healt...|\n",
      "|      8|           23|radiotherapy|        Q|     31397|51-60|                    2|https://www.healt...|\n",
      "|      9|            1|  gynecology|        R|     31397|51-60|                    2|https://www.healt...|\n",
      "|     10|           10|  gynecology|        S|     31397|51-60|                    2|https://www.healt...|\n",
      "|     11|           22|radiotherapy|        S|     31397|51-60|                    2|https://www.healt...|\n",
      "|     12|           26|radiotherapy|        R|     31397|51-60|                    2|https://www.healt...|\n",
      "|     13|           16|radiotherapy|        R|     31397|51-60|                    2|https://www.healt...|\n",
      "|     14|            9|radiotherapy|        S|     31397|51-60|                    2|https://www.healt...|\n",
      "|     15|            6|  gynecology|        Q|     63418|71-80|                    2|https://www.healt...|\n",
      "|     16|            6|  gynecology|        Q|     63418|71-80|                    2|https://www.healt...|\n",
      "|     17|           23|radiotherapy|        Q|     63418|71-80|                    4|https://www.healt...|\n",
      "|     18|           29|  anesthesia|        S|     63418|71-80|                    2|https://www.healt...|\n",
      "|     19|           32|radiotherapy|        S|     63418|71-80|                    2|https://www.healt...|\n",
      "|     20|           12|radiotherapy|        Q|     63418|71-80|                    2|https://www.healt...|\n",
      "+-------+-------------+------------+---------+----------+-----+---------------------+--------------------+\n",
      "only showing top 20 rows\n",
      "\n"
     ]
    }
   ],
   "source": [
    "# Display data\n",
    "inner_join_df.show()"
   ]
  },
  {
   "cell_type": "markdown",
   "metadata": {},
   "source": [
    "---\n",
    "<center>Right Outer join</center>\n",
    "\n",
    "<center><img src= \"images/right_outer_join.png\"></center>\n",
    "\n",
    "---"
   ]
  },
  {
   "cell_type": "code",
   "execution_count": 30,
   "metadata": {},
   "outputs": [],
   "source": [
    "# Right outer join\n",
    "right_outer_join_df = sample_data.join(case_data, 'case_id', 'rightouter')"
   ]
  },
  {
   "cell_type": "code",
   "execution_count": 31,
   "metadata": {},
   "outputs": [
    {
     "name": "stdout",
     "output_type": "stream",
     "text": [
      "22/07/02 07:59:58 WARN CSVHeaderChecker: CSV header does not conform to the schema.\n",
      " Header: case_id, Hospital_code, Department, Ward_Type, patientid, Visitors with Patient, Age\n",
      " Schema: case_id, hospital_code, department, ward_type, patient_id, visitors_with_patient, age\n",
      "Expected: patient_id but found: patientid\n",
      "CSV file: file:///workspaces/PySpark/DataFrame/Dataframes_Operations/dataset/train.csv\n"
     ]
    },
    {
     "name": "stderr",
     "output_type": "stream",
     "text": [
      "                                                                                \r"
     ]
    },
    {
     "name": "stdout",
     "output_type": "stream",
     "text": [
      "+-------+-------------+------------+---------+----------+-----+---------------------+--------------------+\n",
      "|case_id|hospital_code|  department|ward_type|patient_id|  age|visitors_with_patient|            case_url|\n",
      "+-------+-------------+------------+---------+----------+-----+---------------------+--------------------+\n",
      "|      0|         null|        null|     null|      null| null|                 null|https://www.healt...|\n",
      "|      1|            8|radiotherapy|        R|     31397|51-60|                    2|https://www.healt...|\n",
      "|      2|            2|radiotherapy|        S|     31397|51-60|                    2|https://www.healt...|\n",
      "|      3|           10|  anesthesia|        S|     31397|51-60|                    2|https://www.healt...|\n",
      "|      4|           26|radiotherapy|        R|     31397|51-60|                    2|https://www.healt...|\n",
      "|      5|           26|radiotherapy|        S|     31397|51-60|                    2|https://www.healt...|\n",
      "|      6|           23|  anesthesia|        S|     31397|51-60|                    2|https://www.healt...|\n",
      "|      7|           32|radiotherapy|        S|     31397|51-60|                    2|https://www.healt...|\n",
      "|      8|           23|radiotherapy|        Q|     31397|51-60|                    2|https://www.healt...|\n",
      "|      9|            1|  gynecology|        R|     31397|51-60|                    2|https://www.healt...|\n",
      "|     10|           10|  gynecology|        S|     31397|51-60|                    2|https://www.healt...|\n",
      "|     11|           22|radiotherapy|        S|     31397|51-60|                    2|https://www.healt...|\n",
      "|     12|           26|radiotherapy|        R|     31397|51-60|                    2|https://www.healt...|\n",
      "|     13|           16|radiotherapy|        R|     31397|51-60|                    2|https://www.healt...|\n",
      "|     14|            9|radiotherapy|        S|     31397|51-60|                    2|https://www.healt...|\n",
      "|     15|            6|  gynecology|        Q|     63418|71-80|                    2|https://www.healt...|\n",
      "|     16|            6|  gynecology|        Q|     63418|71-80|                    2|https://www.healt...|\n",
      "|     17|           23|radiotherapy|        Q|     63418|71-80|                    4|https://www.healt...|\n",
      "|     18|           29|  anesthesia|        S|     63418|71-80|                    2|https://www.healt...|\n",
      "|     19|           32|radiotherapy|        S|     63418|71-80|                    2|https://www.healt...|\n",
      "+-------+-------------+------------+---------+----------+-----+---------------------+--------------------+\n",
      "only showing top 20 rows\n",
      "\n"
     ]
    }
   ],
   "source": [
    "# Display data\n",
    "right_outer_join_df.show()"
   ]
  },
  {
   "cell_type": "markdown",
   "metadata": {},
   "source": [
    "#### `Exercise`\n",
    "\n",
    "* Left Outer Join\n",
    "* Full Outer Join"
   ]
  },
  {
   "cell_type": "code",
   "execution_count": 32,
   "metadata": {},
   "outputs": [],
   "source": [
    "# left outer join\n",
    "left_outer_join_df = sample_data.join(case_data, 'case_id', 'leftouter')"
   ]
  },
  {
   "cell_type": "code",
   "execution_count": 33,
   "metadata": {},
   "outputs": [
    {
     "name": "stdout",
     "output_type": "stream",
     "text": [
      "22/07/02 08:00:44 WARN CSVHeaderChecker: CSV header does not conform to the schema.\n",
      " Header: case_id, Hospital_code, Department, Ward_Type, patientid, Visitors with Patient, Age\n",
      " Schema: case_id, hospital_code, department, ward_type, patient_id, visitors_with_patient, age\n",
      "Expected: patient_id but found: patientid\n",
      "CSV file: file:///workspaces/PySpark/DataFrame/Dataframes_Operations/dataset/train.csv\n",
      "+-------+-------------+------------+---------+----------+-----+---------------------+--------------------+\n",
      "|case_id|hospital_code|  department|ward_type|patient_id|  age|visitors_with_patient|            case_url|\n",
      "+-------+-------------+------------+---------+----------+-----+---------------------+--------------------+\n",
      "|      1|            8|radiotherapy|        R|     31397|51-60|                    2|https://www.healt...|\n",
      "|      2|            2|radiotherapy|        S|     31397|51-60|                    2|https://www.healt...|\n",
      "|      3|           10|  anesthesia|        S|     31397|51-60|                    2|https://www.healt...|\n",
      "|      4|           26|radiotherapy|        R|     31397|51-60|                    2|https://www.healt...|\n",
      "|      5|           26|radiotherapy|        S|     31397|51-60|                    2|https://www.healt...|\n",
      "|      6|           23|  anesthesia|        S|     31397|51-60|                    2|https://www.healt...|\n",
      "|      7|           32|radiotherapy|        S|     31397|51-60|                    2|https://www.healt...|\n",
      "|      8|           23|radiotherapy|        Q|     31397|51-60|                    2|https://www.healt...|\n",
      "|      9|            1|  gynecology|        R|     31397|51-60|                    2|https://www.healt...|\n",
      "|     10|           10|  gynecology|        S|     31397|51-60|                    2|https://www.healt...|\n",
      "|     11|           22|radiotherapy|        S|     31397|51-60|                    2|https://www.healt...|\n",
      "|     12|           26|radiotherapy|        R|     31397|51-60|                    2|https://www.healt...|\n",
      "|     13|           16|radiotherapy|        R|     31397|51-60|                    2|https://www.healt...|\n",
      "|     14|            9|radiotherapy|        S|     31397|51-60|                    2|https://www.healt...|\n",
      "|     15|            6|  gynecology|        Q|     63418|71-80|                    2|https://www.healt...|\n",
      "|     16|            6|  gynecology|        Q|     63418|71-80|                    2|https://www.healt...|\n",
      "|     17|           23|radiotherapy|        Q|     63418|71-80|                    4|https://www.healt...|\n",
      "|     18|           29|  anesthesia|        S|     63418|71-80|                    2|https://www.healt...|\n",
      "|     19|           32|radiotherapy|        S|     63418|71-80|                    2|https://www.healt...|\n",
      "|     20|           12|radiotherapy|        Q|     63418|71-80|                    2|https://www.healt...|\n",
      "+-------+-------------+------------+---------+----------+-----+---------------------+--------------------+\n",
      "only showing top 20 rows\n",
      "\n"
     ]
    }
   ],
   "source": [
    "left_outer_join_df.show()"
   ]
  },
  {
   "cell_type": "code",
   "execution_count": 34,
   "metadata": {},
   "outputs": [],
   "source": [
    "# full outer join\n",
    "full_outer_join_df = sample_data.join(case_data, 'case_id', 'fullouter')"
   ]
  },
  {
   "cell_type": "code",
   "execution_count": 44,
   "metadata": {},
   "outputs": [
    {
     "name": "stdout",
     "output_type": "stream",
     "text": [
      "22/07/02 08:05:20 WARN CSVHeaderChecker: CSV header does not conform to the schema.\n",
      " Header: case_id, Hospital_code, Department, Ward_Type, patientid, Visitors with Patient, Age\n",
      " Schema: case_id, hospital_code, department, ward_type, patient_id, visitors_with_patient, age\n",
      "Expected: patient_id but found: patientid\n",
      "CSV file: file:///workspaces/PySpark/DataFrame/Dataframes_Operations/dataset/train.csv\n"
     ]
    },
    {
     "name": "stderr",
     "output_type": "stream",
     "text": [
      "[Stage 41:==============>                                           (1 + 3) / 4]\r"
     ]
    },
    {
     "name": "stdout",
     "output_type": "stream",
     "text": [
      "+-------+-------------+------------------+---------+----------+-----+---------------------+--------------------+\n",
      "|case_id|hospital_code|        department|ward_type|patient_id|  age|visitors_with_patient|            case_url|\n",
      "+-------+-------------+------------------+---------+----------+-----+---------------------+--------------------+\n",
      "|      1|            8|      radiotherapy|        R|     31397|51-60|                    2|https://www.healt...|\n",
      "|     12|           26|      radiotherapy|        R|     31397|51-60|                    2|https://www.healt...|\n",
      "|     13|           16|      radiotherapy|        R|     31397|51-60|                    2|https://www.healt...|\n",
      "|     22|            3|        anesthesia|        R|     63418|71-80|                    2|https://www.healt...|\n",
      "|     26|           28|        gynecology|        R|      8088|31-40|                    2|https://www.healt...|\n",
      "|     27|           26|        anesthesia|        Q|      8088|31-40|                    2|https://www.healt...|\n",
      "|     28|           26|        gynecology|        R|      8088|31-40|                    2|https://www.healt...|\n",
      "|     31|           27|        gynecology|        R|      8088|31-40|                    4|https://www.healt...|\n",
      "|     34|            5|        gynecology|        R|    109338|31-40|                    3|https://www.healt...|\n",
      "|     44|           19|        gynecology|        Q|     84932|31-40|                    3|https://www.healt...|\n",
      "|     47|           26|TB & Chest disease|        S|     44201|51-60|                    2|https://www.healt...|\n",
      "|     52|           28|      radiotherapy|        R|     33340|31-40|                    2|https://www.healt...|\n",
      "|     53|           26|      radiotherapy|        Q|     33340|31-40|                    2|https://www.healt...|\n",
      "|     65|           14|        gynecology|        R|     83512|81-90|                    2|https://www.healt...|\n",
      "|     76|           32|        gynecology|        S|     64869|61-70|                    2|https://www.healt...|\n",
      "|     78|           24|        anesthesia|        R|     64869|61-70|                    4|https://www.healt...|\n",
      "|     81|           15|        gynecology|        S|     30632|41-50|                    3|https://www.healt...|\n",
      "|     85|           11|TB & Chest disease|        Q|     82551|71-80|                    2|https://www.healt...|\n",
      "|     91|            9|      radiotherapy|        Q|     88451|21-30|                   13|https://www.healt...|\n",
      "|     93|            9|        gynecology|        R|     21257|31-40|                    3|https://www.healt...|\n",
      "+-------+-------------+------------------+---------+----------+-----+---------------------+--------------------+\n",
      "only showing top 20 rows\n",
      "\n"
     ]
    },
    {
     "name": "stderr",
     "output_type": "stream",
     "text": [
      "                                                                                \r"
     ]
    }
   ],
   "source": [
    "full_outer_join_df.show()"
   ]
  },
  {
   "cell_type": "code",
   "execution_count": 43,
   "metadata": {},
   "outputs": [
    {
     "name": "stdout",
     "output_type": "stream",
     "text": [
      "22/07/02 08:04:51 WARN CSVHeaderChecker: CSV header does not conform to the schema.\n",
      " Header: case_id, Hospital_code, Department, Ward_Type, patientid, Visitors with Patient, Age\n",
      " Schema: case_id, hospital_code, department, ward_type, patient_id, visitors_with_patient, age\n",
      "Expected: patient_id but found: patientid\n",
      "CSV file: file:///workspaces/PySpark/DataFrame/Dataframes_Operations/dataset/train.csv\n"
     ]
    },
    {
     "name": "stderr",
     "output_type": "stream",
     "text": [
      "[Stage 36:==============>                                           (1 + 3) / 4]\r"
     ]
    },
    {
     "name": "stdout",
     "output_type": "stream",
     "text": [
      "+-------+-------------+------------+---------+----------+-----+---------------------+--------------------+\n",
      "|case_id|hospital_code|  department|ward_type|patient_id|  age|visitors_with_patient|            case_url|\n",
      "+-------+-------------+------------+---------+----------+-----+---------------------+--------------------+\n",
      "|      0|         null|        null|     null|      null| null|                 null|https://www.healt...|\n",
      "|      1|            8|radiotherapy|        R|     31397|51-60|                    2|https://www.healt...|\n",
      "|      2|            2|radiotherapy|        S|     31397|51-60|                    2|https://www.healt...|\n",
      "|      3|           10|  anesthesia|        S|     31397|51-60|                    2|https://www.healt...|\n",
      "|      4|           26|radiotherapy|        R|     31397|51-60|                    2|https://www.healt...|\n",
      "|      5|           26|radiotherapy|        S|     31397|51-60|                    2|https://www.healt...|\n",
      "|      6|           23|  anesthesia|        S|     31397|51-60|                    2|https://www.healt...|\n",
      "|      7|           32|radiotherapy|        S|     31397|51-60|                    2|https://www.healt...|\n",
      "|      8|           23|radiotherapy|        Q|     31397|51-60|                    2|https://www.healt...|\n",
      "|      9|            1|  gynecology|        R|     31397|51-60|                    2|https://www.healt...|\n",
      "|     10|           10|  gynecology|        S|     31397|51-60|                    2|https://www.healt...|\n",
      "|     11|           22|radiotherapy|        S|     31397|51-60|                    2|https://www.healt...|\n",
      "|     12|           26|radiotherapy|        R|     31397|51-60|                    2|https://www.healt...|\n",
      "|     13|           16|radiotherapy|        R|     31397|51-60|                    2|https://www.healt...|\n",
      "|     14|            9|radiotherapy|        S|     31397|51-60|                    2|https://www.healt...|\n",
      "|     15|            6|  gynecology|        Q|     63418|71-80|                    2|https://www.healt...|\n",
      "|     16|            6|  gynecology|        Q|     63418|71-80|                    2|https://www.healt...|\n",
      "|     17|           23|radiotherapy|        Q|     63418|71-80|                    4|https://www.healt...|\n",
      "|     18|           29|  anesthesia|        S|     63418|71-80|                    2|https://www.healt...|\n",
      "|     19|           32|radiotherapy|        S|     63418|71-80|                    2|https://www.healt...|\n",
      "+-------+-------------+------------+---------+----------+-----+---------------------+--------------------+\n",
      "only showing top 20 rows\n",
      "\n"
     ]
    },
    {
     "name": "stderr",
     "output_type": "stream",
     "text": [
      "                                                                                \r"
     ]
    }
   ],
   "source": [
    "full_outer_join_df.orderBy('case_id').show()"
   ]
  }
 ],
 "metadata": {
  "kernelspec": {
   "display_name": "Python 3.10.4 64-bit",
   "language": "python",
   "name": "python3"
  },
  "language_info": {
   "codemirror_mode": {
    "name": "ipython",
    "version": 3
   },
   "file_extension": ".py",
   "mimetype": "text/x-python",
   "name": "python",
   "nbconvert_exporter": "python",
   "pygments_lexer": "ipython3",
   "version": "3.10.4"
  },
  "vscode": {
   "interpreter": {
    "hash": "4f946df053fbf2b937619d3c5458e7af74262f9a954d8797ba0b27400bcafe06"
   }
  }
 },
 "nbformat": 4,
 "nbformat_minor": 4
}
